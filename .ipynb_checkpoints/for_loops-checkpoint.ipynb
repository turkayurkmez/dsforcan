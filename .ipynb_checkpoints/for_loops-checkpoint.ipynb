{
 "cells": [
  {
   "cell_type": "code",
   "execution_count": 1,
   "id": "74b33073",
   "metadata": {},
   "outputs": [],
   "source": [
    "import numpy as np"
   ]
  },
  {
   "cell_type": "code",
   "execution_count": 2,
   "id": "d03d0d02",
   "metadata": {},
   "outputs": [],
   "source": [
    "input_stock = np.genfromtxt('values.csv',delimiter=',',names=True, usecols=(1))"
   ]
  },
  {
   "cell_type": "code",
   "execution_count": 3,
   "id": "995c2ddc",
   "metadata": {},
   "outputs": [],
   "source": [
    "temp_array = []"
   ]
  },
  {
   "cell_type": "code",
   "execution_count": 7,
   "id": "ddb29265",
   "metadata": {},
   "outputs": [],
   "source": [
    "with open('values.csv','r') as input_file:\n",
    "    tum_satirlar = input_file.readlines()\n",
    "    for satir in tum_satirlar:\n",
    "        #for fiyat in satir.rsplit(',')[1:]:\n",
    "            # enter_olmayan_fiyat = fiyat.replace(\"\\n\",\"\")\n",
    "        temp_array.append(enter_olmayan_fiyat)"
   ]
  },
  {
   "cell_type": "code",
   "execution_count": 8,
   "id": "436380b0",
   "metadata": {},
   "outputs": [
    {
     "name": "stdout",
     "output_type": "stream",
     "text": [
      "['Close', '157.919998', '142.190002', '148.259995', '147.929993']\n"
     ]
    }
   ],
   "source": [
    "print(temp_array[:5])"
   ]
  },
  {
   "cell_type": "code",
   "execution_count": null,
   "id": "ade96884",
   "metadata": {},
   "outputs": [],
   "source": []
  }
 ],
 "metadata": {
  "kernelspec": {
   "display_name": "Python 3 (ipykernel)",
   "language": "python",
   "name": "python3"
  },
  "language_info": {
   "codemirror_mode": {
    "name": "ipython",
    "version": 3
   },
   "file_extension": ".py",
   "mimetype": "text/x-python",
   "name": "python",
   "nbconvert_exporter": "python",
   "pygments_lexer": "ipython3",
   "version": "3.10.0"
  }
 },
 "nbformat": 4,
 "nbformat_minor": 5
}
