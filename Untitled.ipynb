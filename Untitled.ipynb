{
 "cells": [
  {
   "cell_type": "code",
   "execution_count": 4,
   "id": "b2275793",
   "metadata": {},
   "outputs": [],
   "source": [
    "import numpy as np"
   ]
  },
  {
   "cell_type": "code",
   "execution_count": 5,
   "id": "2e876200",
   "metadata": {},
   "outputs": [
    {
     "data": {
      "text/plain": [
       "'1.22.1'"
      ]
     },
     "execution_count": 5,
     "metadata": {},
     "output_type": "execute_result"
    }
   ],
   "source": [
    "np.__version__"
   ]
  },
  {
   "cell_type": "code",
   "execution_count": 20,
   "id": "c07502c7",
   "metadata": {},
   "outputs": [],
   "source": [
    "sicakliklar = np.array([-4,-7,-13])"
   ]
  },
  {
   "cell_type": "code",
   "execution_count": 7,
   "id": "f22898d2",
   "metadata": {},
   "outputs": [
    {
     "name": "stdout",
     "output_type": "stream",
     "text": [
      "[ -4  -7 -13]\n"
     ]
    }
   ],
   "source": [
    "print(sicakliklar)"
   ]
  },
  {
   "cell_type": "code",
   "execution_count": 8,
   "id": "45b59800",
   "metadata": {},
   "outputs": [
    {
     "ename": "NameError",
     "evalue": "name 'sicalkiklar' is not defined",
     "output_type": "error",
     "traceback": [
      "\u001b[1;31m---------------------------------------------------------------------------\u001b[0m",
      "\u001b[1;31mNameError\u001b[0m                                 Traceback (most recent call last)",
      "Input \u001b[1;32mIn [8]\u001b[0m, in \u001b[0;36m<module>\u001b[1;34m\u001b[0m\n\u001b[1;32m----> 1\u001b[0m \u001b[43msicalkiklar\u001b[49m\u001b[38;5;241m.\u001b[39mshape\n",
      "\u001b[1;31mNameError\u001b[0m: name 'sicalkiklar' is not defined"
     ]
    }
   ],
   "source": [
    "sicalkiklar.shape"
   ]
  },
  {
   "cell_type": "code",
   "execution_count": 9,
   "id": "f6d9d30c",
   "metadata": {},
   "outputs": [
    {
     "data": {
      "text/plain": [
       "(3,)"
      ]
     },
     "execution_count": 9,
     "metadata": {},
     "output_type": "execute_result"
    }
   ],
   "source": [
    "sicakliklar.shape"
   ]
  },
  {
   "cell_type": "code",
   "execution_count": 10,
   "id": "aa09a975",
   "metadata": {},
   "outputs": [
    {
     "data": {
      "text/plain": [
       "3"
      ]
     },
     "execution_count": 10,
     "metadata": {},
     "output_type": "execute_result"
    }
   ],
   "source": [
    "sicakliklar.size"
   ]
  },
  {
   "cell_type": "code",
   "execution_count": 11,
   "id": "e457d575",
   "metadata": {},
   "outputs": [
    {
     "data": {
      "text/plain": [
       "3"
      ]
     },
     "execution_count": 11,
     "metadata": {},
     "output_type": "execute_result"
    }
   ],
   "source": [
    "len(sicakliklar)"
   ]
  },
  {
   "cell_type": "code",
   "execution_count": 14,
   "id": "61ee631a",
   "metadata": {},
   "outputs": [
    {
     "data": {
      "text/plain": [
       "'int64'"
      ]
     },
     "execution_count": 14,
     "metadata": {},
     "output_type": "execute_result"
    }
   ],
   "source": [
    "sicakliklar.dtype.name\n"
   ]
  },
  {
   "cell_type": "code",
   "execution_count": 15,
   "id": "a314e1d2",
   "metadata": {},
   "outputs": [
    {
     "data": {
      "text/plain": [
       "array([         -4,          -7,         -13, -2147483646])"
      ]
     },
     "execution_count": 15,
     "metadata": {},
     "output_type": "execute_result"
    }
   ],
   "source": [
    "sicakliklar.astype(int)"
   ]
  },
  {
   "cell_type": "code",
   "execution_count": 16,
   "id": "2c1ebbd5",
   "metadata": {},
   "outputs": [
    {
     "name": "stdout",
     "output_type": "stream",
     "text": [
      "-4\n"
     ]
    }
   ],
   "source": [
    "print(sicakliklar[0])"
   ]
  },
  {
   "cell_type": "code",
   "execution_count": 17,
   "id": "7241ca72",
   "metadata": {},
   "outputs": [
    {
     "name": "stdout",
     "output_type": "stream",
     "text": [
      "2147483650\n"
     ]
    }
   ],
   "source": [
    "print(sicakliklar[-1])"
   ]
  },
  {
   "cell_type": "code",
   "execution_count": 18,
   "id": "c9c66904",
   "metadata": {},
   "outputs": [
    {
     "name": "stdout",
     "output_type": "stream",
     "text": [
      "[-4 -7]\n"
     ]
    }
   ],
   "source": [
    "print(sicakliklar[0:2])"
   ]
  },
  {
   "cell_type": "code",
   "execution_count": 21,
   "id": "cb19874a",
   "metadata": {},
   "outputs": [
    {
     "name": "stdout",
     "output_type": "stream",
     "text": [
      "-8.0\n"
     ]
    }
   ],
   "source": [
    "print(sicakliklar.mean())"
   ]
  },
  {
   "cell_type": "code",
   "execution_count": 22,
   "id": "881320e4",
   "metadata": {},
   "outputs": [
    {
     "name": "stdout",
     "output_type": "stream",
     "text": [
      "-4\n"
     ]
    }
   ],
   "source": [
    "print(sicakliklar.max())"
   ]
  },
  {
   "cell_type": "code",
   "execution_count": 23,
   "id": "960c7509",
   "metadata": {},
   "outputs": [
    {
     "name": "stdout",
     "output_type": "stream",
     "text": [
      "-13\n"
     ]
    }
   ],
   "source": [
    "print(sicakliklar.min())"
   ]
  },
  {
   "cell_type": "code",
   "execution_count": 24,
   "id": "da001f70",
   "metadata": {},
   "outputs": [
    {
     "name": "stdout",
     "output_type": "stream",
     "text": [
      "-24\n"
     ]
    }
   ],
   "source": [
    "print(sicakliklar.sum())"
   ]
  },
  {
   "cell_type": "code",
   "execution_count": 25,
   "id": "7edc0f1c",
   "metadata": {},
   "outputs": [],
   "source": [
    "hisse_senet_fiyatlari = np.array([142.19, 148.06,154.75,153.22,140.64,136.64,155.64,157.64,152.64,159.64,149.72])"
   ]
  },
  {
   "cell_type": "code",
   "execution_count": 26,
   "id": "f5fe0c5e",
   "metadata": {},
   "outputs": [],
   "source": [
    "kucukten_buyuge_fiyatlar = np.sort(hisse_senet_fiyatlari)[::-1]"
   ]
  },
  {
   "cell_type": "code",
   "execution_count": 28,
   "id": "9bbdad38",
   "metadata": {},
   "outputs": [
    {
     "name": "stdout",
     "output_type": "stream",
     "text": [
      "Büyükten küçüğe fiyatlar: [159.64 157.64 155.64 154.75 153.22 152.64 149.72 148.06 142.19 140.64\n",
      " 136.64]\n"
     ]
    }
   ],
   "source": [
    "print('Büyükten küçüğe fiyatlar:',kucukten_buyuge_fiyatlar)"
   ]
  },
  {
   "cell_type": "code",
   "execution_count": 29,
   "id": "ea82a413",
   "metadata": {},
   "outputs": [
    {
     "name": "stdout",
     "output_type": "stream",
     "text": [
      "159.64\n"
     ]
    }
   ],
   "source": [
    "print(kucukten_buyuge_fiyatlar[0])"
   ]
  },
  {
   "cell_type": "code",
   "execution_count": 30,
   "id": "20aabaf5",
   "metadata": {},
   "outputs": [
    {
     "data": {
      "text/plain": [
       "159.64"
      ]
     },
     "execution_count": 30,
     "metadata": {},
     "output_type": "execute_result"
    }
   ],
   "source": [
    "hisse_senet_fiyatlari.max()"
   ]
  },
  {
   "cell_type": "code",
   "execution_count": 33,
   "id": "36760e0e",
   "metadata": {},
   "outputs": [],
   "source": [
    "arr_2 = np.sort(hisse_senet_fiyatlari)"
   ]
  },
  {
   "cell_type": "code",
   "execution_count": 34,
   "id": "d3e84a8e",
   "metadata": {},
   "outputs": [
    {
     "name": "stdout",
     "output_type": "stream",
     "text": [
      "[136.64 140.64 142.19 148.06 149.72 152.64 153.22 154.75 155.64 157.64\n",
      " 159.64]\n"
     ]
    }
   ],
   "source": [
    "print(arr_2)"
   ]
  },
  {
   "cell_type": "code",
   "execution_count": 35,
   "id": "a7a5af75",
   "metadata": {},
   "outputs": [
    {
     "name": "stdout",
     "output_type": "stream",
     "text": [
      "[159.64 157.64 155.64 154.75 153.22 152.64 149.72 148.06 142.19 140.64\n",
      " 136.64]\n"
     ]
    }
   ],
   "source": [
    "print(arr_2[::-1])"
   ]
  },
  {
   "cell_type": "code",
   "execution_count": null,
   "id": "0032febe",
   "metadata": {},
   "outputs": [],
   "source": []
  }
 ],
 "metadata": {
  "kernelspec": {
   "display_name": "Python 3 (ipykernel)",
   "language": "python",
   "name": "python3"
  },
  "language_info": {
   "codemirror_mode": {
    "name": "ipython",
    "version": 3
   },
   "file_extension": ".py",
   "mimetype": "text/x-python",
   "name": "python",
   "nbconvert_exporter": "python",
   "pygments_lexer": "ipython3",
   "version": "3.10.0"
  }
 },
 "nbformat": 4,
 "nbformat_minor": 5
}
