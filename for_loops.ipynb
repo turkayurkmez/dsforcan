{
 "cells": [
  {
   "cell_type": "code",
   "execution_count": 1,
   "id": "a5ae3c27",
   "metadata": {},
   "outputs": [],
   "source": [
    "import numpy as np"
   ]
  },
  {
   "cell_type": "code",
   "execution_count": 2,
   "id": "bbb7cdcd",
   "metadata": {},
   "outputs": [],
   "source": [
    "input_stock = np.genfromtxt('values.csv',delimiter=',',names=True, usecols=(1))"
   ]
  },
  {
   "cell_type": "code",
   "execution_count": 3,
   "id": "35645bb1",
   "metadata": {},
   "outputs": [],
   "source": [
    "temp_array = []"
   ]
  },
  {
   "cell_type": "code",
   "execution_count": 9,
   "id": "c622a9da",
   "metadata": {},
   "outputs": [],
   "source": [
    "with open('values.csv','r') as input_file:\n",
    "    tum_satirlar = input_file.readlines()\n",
    "    for satir in tum_satirlar:\n",
    "        #for fiyat in satir.rsplit(',')[1:]:\n",
    "            # enter_olmayan_fiyat = fiyat.replace(\"\\n\",\"\")\n",
    "        temp_array.append(enter_olmayan_fiyat)"
   ]
  },
  {
   "cell_type": "code",
   "execution_count": 11,
   "id": "3c8d9326",
   "metadata": {},
   "outputs": [
    {
     "name": "stdout",
     "output_type": "stream",
     "text": [
      "['157.919998' '142.190002' '148.259995' '147.929993' '150.75']\n"
     ]
    }
   ],
   "source": [
    "print(temp_array[:5])"
   ]
  },
  {
   "cell_type": "code",
   "execution_count": 10,
   "id": "2c71c0ca",
   "metadata": {},
   "outputs": [],
   "source": [
    "temp_array= np.delete(temp_array,0)"
   ]
  },
  {
   "cell_type": "code",
   "execution_count": 18,
   "id": "5db401b7",
   "metadata": {},
   "outputs": [
    {
     "name": "stdout",
     "output_type": "stream",
     "text": [
      "1 x 1 = 1\n",
      "1 x 2 = 2\n",
      "1 x 3 = 3\n",
      "1 x 4 = 4\n",
      "1 x 5 = 5\n",
      "1 x 6 = 6\n",
      "1 x 7 = 7\n",
      "1 x 8 = 8\n",
      "1 x 9 = 9\n",
      "2 x 1 = 2\n",
      "2 x 2 = 4\n",
      "2 x 3 = 6\n",
      "2 x 4 = 8\n",
      "2 x 5 = 10\n",
      "2 x 6 = 12\n",
      "2 x 7 = 14\n",
      "2 x 8 = 16\n",
      "2 x 9 = 18\n",
      "3 x 1 = 3\n",
      "3 x 2 = 6\n",
      "3 x 3 = 9\n",
      "3 x 4 = 12\n",
      "3 x 5 = 15\n",
      "3 x 6 = 18\n",
      "3 x 7 = 21\n",
      "3 x 8 = 24\n",
      "3 x 9 = 27\n",
      "4 x 1 = 4\n",
      "4 x 2 = 8\n",
      "4 x 3 = 12\n",
      "4 x 4 = 16\n",
      "4 x 5 = 20\n",
      "4 x 6 = 24\n",
      "4 x 7 = 28\n",
      "4 x 8 = 32\n",
      "4 x 9 = 36\n",
      "5 x 1 = 5\n",
      "5 x 2 = 10\n",
      "5 x 3 = 15\n",
      "5 x 4 = 20\n",
      "5 x 5 = 25\n",
      "5 x 6 = 30\n",
      "5 x 7 = 35\n",
      "5 x 8 = 40\n",
      "5 x 9 = 45\n",
      "6 x 1 = 6\n",
      "6 x 2 = 12\n",
      "6 x 3 = 18\n",
      "6 x 4 = 24\n",
      "6 x 5 = 30\n",
      "6 x 6 = 36\n",
      "6 x 7 = 42\n",
      "6 x 8 = 48\n",
      "6 x 9 = 54\n",
      "7 x 1 = 7\n",
      "7 x 2 = 14\n",
      "7 x 3 = 21\n",
      "7 x 4 = 28\n",
      "7 x 5 = 35\n",
      "7 x 6 = 42\n",
      "7 x 7 = 49\n",
      "7 x 8 = 56\n",
      "7 x 9 = 63\n",
      "8 x 1 = 8\n",
      "8 x 2 = 16\n",
      "8 x 3 = 24\n",
      "8 x 4 = 32\n",
      "8 x 5 = 40\n",
      "8 x 6 = 48\n",
      "8 x 7 = 56\n",
      "8 x 8 = 64\n",
      "8 x 9 = 72\n",
      "9 x 1 = 9\n",
      "9 x 2 = 18\n",
      "9 x 3 = 27\n",
      "9 x 4 = 36\n",
      "9 x 5 = 45\n",
      "9 x 6 = 54\n",
      "9 x 7 = 63\n",
      "9 x 8 = 72\n",
      "9 x 9 = 81\n"
     ]
    }
   ],
   "source": [
    "for sayi in range(1,10):\n",
    "    for baska in range (1,10):\n",
    "        islem = sayi * baska\n",
    "        print(f'{sayi} x {baska} =',islem)\n"
   ]
  },
  {
   "cell_type": "code",
   "execution_count": null,
   "id": "ce9b3547",
   "metadata": {},
   "outputs": [],
   "source": []
  }
 ],
 "metadata": {
  "kernelspec": {
   "display_name": "Python 3 (ipykernel)",
   "language": "python",
   "name": "python3"
  },
  "language_info": {
   "codemirror_mode": {
    "name": "ipython",
    "version": 3
   },
   "file_extension": ".py",
   "mimetype": "text/x-python",
   "name": "python",
   "nbconvert_exporter": "python",
   "pygments_lexer": "ipython3",
   "version": "3.10.0"
  }
 },
 "nbformat": 4,
 "nbformat_minor": 5
}
